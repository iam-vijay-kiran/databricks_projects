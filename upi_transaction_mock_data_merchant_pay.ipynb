{
 "cells": [
  {
   "cell_type": "code",
   "execution_count": 0,
   "metadata": {
    "application/vnd.databricks.v1+cell": {
     "cellMetadata": {
      "byteLimit": 2048000,
      "rowLimit": 10000
     },
     "inputWidgets": {},
     "nuid": "9d9756fa-9724-4bdd-97e8-6fdf578e7b54",
     "showTitle": false,
     "tableResultSettingsMap": {},
     "title": ""
    }
   },
   "outputs": [],
   "source": [
    "#Create raw delta table with CDC enables\n",
    "\n",
    "spark.sql(\"\"\"\n",
    "          CREATE TABLE IF NOT EXISTS incremental_data_load.default.raw_upi_trx_v1(\n",
    "              transaction_id STRING,\n",
    "              upi_id STRING,\n",
    "              merchant_id STRING,\n",
    "              transaction_amount DOUBLE,\n",
    "              transaction_timestamp TIMESTAMP,\n",
    "              transaction_status STRING\n",
    "\n",
    "          )\n",
    "          USING DELTA\n",
    "          TBLPROPERTIES('delta.enableChangeDataFeed' = true)\n",
    "          \"\"\")\n",
    "print(\"Delta table 'incremental_data_load.default.raw_upi_trx_v1' created with CDC enables\")"
   ]
  },
  {
   "cell_type": "code",
   "execution_count": 0,
   "metadata": {
    "application/vnd.databricks.v1+cell": {
     "cellMetadata": {},
     "inputWidgets": {},
     "nuid": "717589bc-dd45-4039-a110-b09ff5c2c1d2",
     "showTitle": false,
     "tableResultSettingsMap": {},
     "title": ""
    }
   },
   "outputs": [],
   "source": []
  }
 ],
 "metadata": {
  "application/vnd.databricks.v1+notebook": {
   "computePreferences": null,
   "dashboards": [],
   "environmentMetadata": {
    "base_environment": "",
    "client": "1"
   },
   "language": "python",
   "notebookMetadata": {
    "pythonIndentUnit": 4
   },
   "notebookName": "upi_transaction_mock_data_merchant_pay",
   "widgets": {}
  },
  "language_info": {
   "name": "python"
  }
 },
 "nbformat": 4,
 "nbformat_minor": 0
}
