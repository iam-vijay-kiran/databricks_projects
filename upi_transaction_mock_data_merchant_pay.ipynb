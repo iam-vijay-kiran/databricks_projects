{
 "cells": [
  {
   "cell_type": "code",
   "execution_count": 0,
   "metadata": {
    "application/vnd.databricks.v1+cell": {
     "cellMetadata": {
      "byteLimit": 2048000,
      "rowLimit": 10000
     },
     "inputWidgets": {},
     "nuid": "9d9756fa-9724-4bdd-97e8-6fdf578e7b54",
     "showTitle": false,
     "tableResultSettingsMap": {},
     "title": ""
    }
   },
   "outputs": [],
   "source": [
    "# Create raw delta table with CDC enables\n",
    "\n",
    "# spark.sql(\"\"\"\n",
    "#           CREATE TABLE IF NOT EXISTS incremental_data_load.default.raw_upi_trx(\n",
    "#               transaction_id STRING,\n",
    "#               upi_id STRING,\n",
    "#               merchant_id STRING,\n",
    "#               transaction_amount DOUBLE,\n",
    "#               transaction_timestamp TIMESTAMP,\n",
    "#               transaction_status STRING\n",
    "\n",
    "#           )\n",
    "#           USING DELTA\n",
    "#           TBLPROPERTIES('delta.enableChangeDataFeed' = true)\n",
    "#           \"\"\")\n",
    "# print(\"Delta table 'incremental_data_load.default.raw_upi_trx' created with CDC enables\")\n",
    "\n",
    "\n",
    "\n",
    "spark.sql(\"\"\"\n",
    "          CREATE TABLE IF NOT EXISTS incremental_data_load.default.raw_upi_trx_v1(\n",
    "              transaction_id STRING,\n",
    "              upi_id STRING,\n",
    "              merchant_id STRING,\n",
    "              transaction_amount DOUBLE,\n",
    "              transaction_timestamp TIMESTAMP,\n",
    "              transaction_status STRING\n",
    "\n",
    "          )\n",
    "          USING DELTA\n",
    "          TBLPROPERTIES('delta.enableChangeDataFeed' = true)\n",
    "          \"\"\")\n",
    "print(\"Delta table 'incremental_data_load.default.raw_upi_trx_v1' created with CDC enables\")"
   ]
  },
  {
   "cell_type": "code",
   "execution_count": 0,
   "metadata": {
    "application/vnd.databricks.v1+cell": {
     "cellMetadata": {
      "byteLimit": 2048000,
      "implicitDf": true,
      "rowLimit": 10000
     },
     "inputWidgets": {},
     "nuid": "8caf8fa5-ec01-48b9-9698-a41cbbebeb28",
     "showTitle": false,
     "tableResultSettingsMap": {},
     "title": ""
    }
   },
   "outputs": [],
   "source": [
    "%sql\n",
    "DESCRIBE FORMATTED incremental_data_load.default.raw_upi_trx_v1\n"
   ]
  },
  {
   "cell_type": "code",
   "execution_count": 0,
   "metadata": {
    "application/vnd.databricks.v1+cell": {
     "cellMetadata": {
      "byteLimit": 2048000,
      "rowLimit": 10000
     },
     "inputWidgets": {},
     "nuid": "717589bc-dd45-4039-a110-b09ff5c2c1d2",
     "showTitle": false,
     "tableResultSettingsMap": {},
     "title": ""
    }
   },
   "outputs": [],
   "source": [
    "from delta.tables import DeltaTable\n",
    "import time\n",
    "\n",
    "# Mock data batches to simulate CDC\n",
    "mock_batches = [\n",
    "    # Batch 1: Insert new transactions\n",
    "    spark.createDataFrame([\n",
    "        (\"T001\", \"upi1@bank\", \"M001\", 500.0, \"2024-12-21 10:00:00\", \"initiated\"),\n",
    "        (\"T002\", \"upi2@bank\", \"M002\", 1000.0, \"2024-12-21 10:05:00\", \"initiated\"),\n",
    "        (\"T003\", \"upi3@bank\", \"M003\", 1500.0, \"2024-12-21 10:10:00\", \"initiated\"),\n",
    "    ], [\"transaction_id\", \"upi_id\", \"merchant_id\", \"transaction_amount\", \"transaction_timestamp\", \"transaction_status\"]),\n",
    "\n",
    "    # Batch 2: Update and insert transactions\n",
    "    spark.createDataFrame([\n",
    "        (\"T001\", \"upi1@bank\", \"M001\", 500.0, \"2024-12-21 10:15:00\", \"completed\"),  # Update transaction\n",
    "        (\"T002\", \"upi2@bank\", \"M002\", 1000.0, \"2024-12-21 10:20:00\", \"failed\"),    # Update transaction\n",
    "        (\"T004\", \"upi4@bank\", \"M004\", 2000.0, \"2024-12-21 10:25:00\", \"initiated\"), # New transaction\n",
    "    ], [\"transaction_id\", \"upi_id\", \"merchant_id\", \"transaction_amount\", \"transaction_timestamp\", \"transaction_status\"]),\n",
    "\n",
    "    # Batch 3: Handle refunds and updates\n",
    "    spark.createDataFrame([\n",
    "        (\"T001\", \"upi1@bank\", \"M001\", 500.0, \"2024-12-21 10:30:00\", \"refunded\"),  # Refund issued\n",
    "        (\"T003\", \"upi3@bank\", \"M003\", 1500.0, \"2024-12-21 10:35:00\", \"completed\"), # Completed transaction\n",
    "    ], [\"transaction_id\", \"upi_id\", \"merchant_id\", \"transaction_amount\", \"transaction_timestamp\", \"transaction_status\"]),\n",
    "]\n",
    "\n",
    "\n",
    "# Merge logic\n",
    "def merge_to_delta_table(delta_table_name: str, batch_df):\n",
    "    delta_table = DeltaTable.forName(spark, delta_table_name)\n",
    "    \n",
    "\n",
    "    # Perform merge operation\n",
    "    delta_table.alias(\"target\").merge(\n",
    "        batch_df.alias(\"source\"),\n",
    "        \"target.transaction_id = source.transaction_id\"\n",
    "    ).whenMatchedUpdate(\n",
    "        set={\n",
    "            \"upi_id\": \"source.upi_id\",\n",
    "            \"merchant_id\": \"source.merchant_id\",\n",
    "            \"transaction_amount\": \"source.transaction_amount\",\n",
    "            \"transaction_timestamp\": \"source.transaction_timestamp\",\n",
    "            \"transaction_status\": \"source.transaction_status\"\n",
    "        }\n",
    "    ).whenNotMatchedInsertAll().execute()\n",
    "\n",
    "# for i, batch_df in enumerate(mock_batches):\n",
    "#     print(f\"Processing batch {i + 1}\")\n",
    "#     merge_to_delta_table(\"incremental_load.default.raw_upi_trx\", batch_df)\n",
    "#     print(f\"Batch {i + 1} processed successfully.\")\n",
    "#     time.sleep(10)\n",
    "\n",
    "\n",
    "merge_to_delta_table(\"incremental_data_load.default.raw_upi_trx_v1\", mock_batches[0])\n",
    "print(f\"Batch processed successfully.\")\n"
   ]
  },
  {
   "cell_type": "code",
   "execution_count": 0,
   "metadata": {
    "application/vnd.databricks.v1+cell": {
     "cellMetadata": {},
     "inputWidgets": {},
     "nuid": "9390fa8b-b832-4caf-bf43-dc8953023a10",
     "showTitle": false,
     "tableResultSettingsMap": {},
     "title": ""
    }
   },
   "outputs": [],
   "source": []
  }
 ],
 "metadata": {
  "application/vnd.databricks.v1+notebook": {
   "computePreferences": null,
   "dashboards": [],
   "environmentMetadata": {
    "base_environment": "",
    "client": "1"
   },
   "language": "python",
   "notebookMetadata": {
    "mostRecentlyExecutedCommandWithImplicitDF": {
     "commandId": 7072325212136883,
     "dataframes": [
      "_sqldf"
     ]
    },
    "pythonIndentUnit": 4
   },
   "notebookName": "upi_transaction_mock_data_merchant_pay",
   "widgets": {}
  },
  "language_info": {
   "name": "python"
  }
 },
 "nbformat": 4,
 "nbformat_minor": 0
}
